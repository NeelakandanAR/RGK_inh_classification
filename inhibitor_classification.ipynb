{
  "cells": [
    {
      "cell_type": "code",
      "source": [
        "!pip install pretty_confusion_matrix\n",
        "\n"
      ],
      "metadata": {
        "colab": {
          "base_uri": "https://localhost:8080/",
          "height": 1000
        },
        "id": "hUIwdGKSXi5S",
        "outputId": "8debcee6-648f-4f84-87c4-8b2c0c3cfd1e"
      },
      "execution_count": null,
      "outputs": [
        {
          "output_type": "stream",
          "name": "stdout",
          "text": [
            "Looking in indexes: https://pypi.org/simple, https://us-python.pkg.dev/colab-wheels/public/simple/\n",
            "Collecting pretty_confusion_matrix\n",
            "  Downloading pretty_confusion_matrix-0.1.1-py3-none-any.whl (9.6 kB)\n",
            "Collecting isort<6.0.0,>=5.8.0\n",
            "  Downloading isort-5.10.1-py3-none-any.whl (103 kB)\n",
            "\u001b[K     |████████████████████████████████| 103 kB 9.4 MB/s \n",
            "\u001b[?25hCollecting black<22.0,>=21.5b0\n",
            "  Downloading black-21.12b0-py3-none-any.whl (156 kB)\n",
            "\u001b[K     |████████████████████████████████| 156 kB 66.5 MB/s \n",
            "\u001b[?25hRequirement already satisfied: numpy<2.0.0,>=1.21.4 in /usr/local/lib/python3.7/dist-packages (from pretty_confusion_matrix) (1.21.6)\n",
            "Requirement already satisfied: seaborn<0.12.0,>=0.11.2 in /usr/local/lib/python3.7/dist-packages (from pretty_confusion_matrix) (0.11.2)\n",
            "Collecting flake8<4.0.0,>=3.9.2\n",
            "  Downloading flake8-3.9.2-py2.py3-none-any.whl (73 kB)\n",
            "\u001b[K     |████████████████████████████████| 73 kB 1.6 MB/s \n",
            "\u001b[?25hCollecting sklearn<0.1,>=0.0\n",
            "  Downloading sklearn-0.0.tar.gz (1.1 kB)\n",
            "Collecting matplotlib<4.0.0,>=3.5.0\n",
            "  Downloading matplotlib-3.5.3-cp37-cp37m-manylinux_2_5_x86_64.manylinux1_x86_64.whl (11.2 MB)\n",
            "\u001b[K     |████████████████████████████████| 11.2 MB 42.3 MB/s \n",
            "\u001b[?25hRequirement already satisfied: pandas<2.0.0,>=1.3.4 in /usr/local/lib/python3.7/dist-packages (from pretty_confusion_matrix) (1.3.5)\n",
            "Collecting pre-commit<3.0.0,>=2.12.1\n",
            "  Downloading pre_commit-2.20.0-py2.py3-none-any.whl (199 kB)\n",
            "\u001b[K     |████████████████████████████████| 199 kB 44.2 MB/s \n",
            "\u001b[?25hCollecting tomli<2.0.0,>=0.2.6\n",
            "  Downloading tomli-1.2.3-py3-none-any.whl (12 kB)\n",
            "Collecting pathspec<1,>=0.9.0\n",
            "  Downloading pathspec-0.10.1-py3-none-any.whl (27 kB)\n",
            "Requirement already satisfied: typing-extensions>=3.10.0.0 in /usr/local/lib/python3.7/dist-packages (from black<22.0,>=21.5b0->pretty_confusion_matrix) (4.1.1)\n",
            "Collecting typed-ast>=1.4.2\n",
            "  Downloading typed_ast-1.5.4-cp37-cp37m-manylinux_2_5_x86_64.manylinux1_x86_64.manylinux_2_12_x86_64.manylinux2010_x86_64.whl (843 kB)\n",
            "\u001b[K     |████████████████████████████████| 843 kB 9.9 MB/s \n",
            "\u001b[?25hCollecting mypy-extensions>=0.4.3\n",
            "  Downloading mypy_extensions-0.4.3-py2.py3-none-any.whl (4.5 kB)\n",
            "Requirement already satisfied: click>=7.1.2 in /usr/local/lib/python3.7/dist-packages (from black<22.0,>=21.5b0->pretty_confusion_matrix) (7.1.2)\n",
            "Collecting platformdirs>=2\n",
            "  Downloading platformdirs-2.5.2-py3-none-any.whl (14 kB)\n",
            "Collecting mccabe<0.7.0,>=0.6.0\n",
            "  Downloading mccabe-0.6.1-py2.py3-none-any.whl (8.6 kB)\n",
            "Collecting pycodestyle<2.8.0,>=2.7.0\n",
            "  Downloading pycodestyle-2.7.0-py2.py3-none-any.whl (41 kB)\n",
            "\u001b[K     |████████████████████████████████| 41 kB 624 kB/s \n",
            "\u001b[?25hRequirement already satisfied: importlib-metadata in /usr/local/lib/python3.7/dist-packages (from flake8<4.0.0,>=3.9.2->pretty_confusion_matrix) (4.12.0)\n",
            "Collecting pyflakes<2.4.0,>=2.3.0\n",
            "  Downloading pyflakes-2.3.1-py2.py3-none-any.whl (68 kB)\n",
            "\u001b[K     |████████████████████████████████| 68 kB 6.7 MB/s \n",
            "\u001b[?25hRequirement already satisfied: cycler>=0.10 in /usr/local/lib/python3.7/dist-packages (from matplotlib<4.0.0,>=3.5.0->pretty_confusion_matrix) (0.11.0)\n",
            "Collecting fonttools>=4.22.0\n",
            "  Downloading fonttools-4.37.1-py3-none-any.whl (957 kB)\n",
            "\u001b[K     |████████████████████████████████| 957 kB 11.9 MB/s \n",
            "\u001b[?25hRequirement already satisfied: pillow>=6.2.0 in /usr/local/lib/python3.7/dist-packages (from matplotlib<4.0.0,>=3.5.0->pretty_confusion_matrix) (7.1.2)\n",
            "Requirement already satisfied: packaging>=20.0 in /usr/local/lib/python3.7/dist-packages (from matplotlib<4.0.0,>=3.5.0->pretty_confusion_matrix) (21.3)\n",
            "Requirement already satisfied: pyparsing>=2.2.1 in /usr/local/lib/python3.7/dist-packages (from matplotlib<4.0.0,>=3.5.0->pretty_confusion_matrix) (3.0.9)\n",
            "Requirement already satisfied: python-dateutil>=2.7 in /usr/local/lib/python3.7/dist-packages (from matplotlib<4.0.0,>=3.5.0->pretty_confusion_matrix) (2.8.2)\n",
            "Requirement already satisfied: kiwisolver>=1.0.1 in /usr/local/lib/python3.7/dist-packages (from matplotlib<4.0.0,>=3.5.0->pretty_confusion_matrix) (1.4.4)\n",
            "Requirement already satisfied: pytz>=2017.3 in /usr/local/lib/python3.7/dist-packages (from pandas<2.0.0,>=1.3.4->pretty_confusion_matrix) (2022.2.1)\n",
            "Requirement already satisfied: pyyaml>=5.1 in /usr/local/lib/python3.7/dist-packages (from pre-commit<3.0.0,>=2.12.1->pretty_confusion_matrix) (6.0)\n",
            "Collecting virtualenv>=20.0.8\n",
            "  Downloading virtualenv-20.16.4-py3-none-any.whl (8.8 MB)\n",
            "\u001b[K     |████████████████████████████████| 8.8 MB 15.3 MB/s \n",
            "\u001b[?25hCollecting cfgv>=2.0.0\n",
            "  Downloading cfgv-3.3.1-py2.py3-none-any.whl (7.3 kB)\n",
            "Collecting identify>=1.0.0\n",
            "  Downloading identify-2.5.3-py2.py3-none-any.whl (98 kB)\n",
            "\u001b[K     |████████████████████████████████| 98 kB 7.8 MB/s \n",
            "\u001b[?25hRequirement already satisfied: toml in /usr/local/lib/python3.7/dist-packages (from pre-commit<3.0.0,>=2.12.1->pretty_confusion_matrix) (0.10.2)\n",
            "Collecting nodeenv>=0.11.1\n",
            "  Downloading nodeenv-1.7.0-py2.py3-none-any.whl (21 kB)\n",
            "Requirement already satisfied: setuptools in /usr/local/lib/python3.7/dist-packages (from nodeenv>=0.11.1->pre-commit<3.0.0,>=2.12.1->pretty_confusion_matrix) (57.4.0)\n",
            "Requirement already satisfied: six>=1.5 in /usr/local/lib/python3.7/dist-packages (from python-dateutil>=2.7->matplotlib<4.0.0,>=3.5.0->pretty_confusion_matrix) (1.15.0)\n",
            "Requirement already satisfied: scipy>=1.0 in /usr/local/lib/python3.7/dist-packages (from seaborn<0.12.0,>=0.11.2->pretty_confusion_matrix) (1.7.3)\n",
            "Requirement already satisfied: scikit-learn in /usr/local/lib/python3.7/dist-packages (from sklearn<0.1,>=0.0->pretty_confusion_matrix) (1.0.2)\n",
            "Collecting distlib<1,>=0.3.5\n",
            "  Downloading distlib-0.3.6-py2.py3-none-any.whl (468 kB)\n",
            "\u001b[K     |████████████████████████████████| 468 kB 19.8 MB/s \n",
            "\u001b[?25hRequirement already satisfied: filelock<4,>=3.4.1 in /usr/local/lib/python3.7/dist-packages (from virtualenv>=20.0.8->pre-commit<3.0.0,>=2.12.1->pretty_confusion_matrix) (3.8.0)\n",
            "Requirement already satisfied: zipp>=0.5 in /usr/local/lib/python3.7/dist-packages (from importlib-metadata->flake8<4.0.0,>=3.9.2->pretty_confusion_matrix) (3.8.1)\n",
            "Requirement already satisfied: joblib>=0.11 in /usr/local/lib/python3.7/dist-packages (from scikit-learn->sklearn<0.1,>=0.0->pretty_confusion_matrix) (1.1.0)\n",
            "Requirement already satisfied: threadpoolctl>=2.0.0 in /usr/local/lib/python3.7/dist-packages (from scikit-learn->sklearn<0.1,>=0.0->pretty_confusion_matrix) (3.1.0)\n",
            "Building wheels for collected packages: sklearn\n",
            "  Building wheel for sklearn (setup.py) ... \u001b[?25l\u001b[?25hdone\n",
            "  Created wheel for sklearn: filename=sklearn-0.0-py2.py3-none-any.whl size=1310 sha256=5849d83cbd899c6800ec351a7007c54c3c52cfa69fa44e80b72a6c9505893824\n",
            "  Stored in directory: /root/.cache/pip/wheels/46/ef/c3/157e41f5ee1372d1be90b09f74f82b10e391eaacca8f22d33e\n",
            "Successfully built sklearn\n",
            "Installing collected packages: platformdirs, fonttools, distlib, virtualenv, typed-ast, tomli, pyflakes, pycodestyle, pathspec, nodeenv, mypy-extensions, mccabe, matplotlib, identify, cfgv, sklearn, pre-commit, isort, flake8, black, pretty-confusion-matrix\n",
            "  Attempting uninstall: tomli\n",
            "    Found existing installation: tomli 2.0.1\n",
            "    Uninstalling tomli-2.0.1:\n",
            "      Successfully uninstalled tomli-2.0.1\n",
            "  Attempting uninstall: matplotlib\n",
            "    Found existing installation: matplotlib 3.2.2\n",
            "    Uninstalling matplotlib-3.2.2:\n",
            "      Successfully uninstalled matplotlib-3.2.2\n",
            "Successfully installed black-21.12b0 cfgv-3.3.1 distlib-0.3.6 flake8-3.9.2 fonttools-4.37.1 identify-2.5.3 isort-5.10.1 matplotlib-3.5.3 mccabe-0.6.1 mypy-extensions-0.4.3 nodeenv-1.7.0 pathspec-0.10.1 platformdirs-2.5.2 pre-commit-2.20.0 pretty-confusion-matrix-0.1.1 pycodestyle-2.7.0 pyflakes-2.3.1 sklearn-0.0 tomli-1.2.3 typed-ast-1.5.4 virtualenv-20.16.4\n"
          ]
        },
        {
          "output_type": "display_data",
          "data": {
            "application/vnd.colab-display-data+json": {
              "pip_warning": {
                "packages": [
                  "matplotlib",
                  "mpl_toolkits"
                ]
              }
            }
          },
          "metadata": {}
        }
      ]
    },
    {
      "cell_type": "code",
      "execution_count": null,
      "metadata": {
        "colab": {
          "base_uri": "https://localhost:8080/",
          "height": 17
        },
        "id": "4in7N0ddJtMV",
        "outputId": "ceda3e19-af9a-4cf9-a88a-8f2ba6a7d017"
      },
      "outputs": [
        {
          "output_type": "display_data",
          "data": {
            "text/html": [
              "        <script type=\"text/javascript\">\n",
              "        window.PlotlyConfig = {MathJaxConfig: 'local'};\n",
              "        if (window.MathJax) {MathJax.Hub.Config({SVG: {font: \"STIX-Web\"}});}\n",
              "        if (typeof require !== 'undefined') {\n",
              "        require.undef(\"plotly\");\n",
              "        requirejs.config({\n",
              "            paths: {\n",
              "                'plotly': ['https://cdn.plot.ly/plotly-2.8.3.min']\n",
              "            }\n",
              "        });\n",
              "        require(['plotly'], function(Plotly) {\n",
              "            window._Plotly = Plotly;\n",
              "        });\n",
              "        }\n",
              "        </script>\n",
              "        "
            ]
          },
          "metadata": {}
        }
      ],
      "source": [
        "import pandas as pd\n",
        "import numpy as np\n",
        "import seaborn as sns\n",
        "import matplotlib.pyplot as plt\n",
        "\n",
        "import plotly.offline as py \n",
        "py.init_notebook_mode(connected=True)                  \n",
        "import plotly.graph_objs as go                         \n",
        "import plotly.tools as tls                             \n",
        "from collections import Counter                        \n",
        "import plotly.figure_factory as ff\n",
        "\n",
        "from sklearn.ensemble import RandomForestClassifier\n",
        "from sklearn.feature_extraction.text import CountVectorizer\n",
        "from sklearn.model_selection import train_test_split, GridSearchCV, cross_val_score\n",
        "from sklearn.metrics import accuracy_score"
      ]
    },
    {
      "cell_type": "code",
      "execution_count": null,
      "metadata": {
        "id": "4dPYnGzkPFmO"
      },
      "outputs": [],
      "source": [
        "df = pd.read_csv('/content/EGLN1_IC50_descriptor (1).csv')"
      ]
    },
    {
      "cell_type": "code",
      "execution_count": null,
      "metadata": {
        "id": "_omL_AdbPFp9"
      },
      "outputs": [],
      "source": [
        "df1=df"
      ]
    },
    {
      "cell_type": "code",
      "source": [
        "df=df1"
      ],
      "metadata": {
        "id": "0-xutHzmadQX"
      },
      "execution_count": null,
      "outputs": []
    },
    {
      "cell_type": "code",
      "source": [
        "\n",
        "df1.columns\n"
      ],
      "metadata": {
        "colab": {
          "base_uri": "https://localhost:8080/"
        },
        "id": "cOfz9GxWDuIO",
        "outputId": "bc927626-6c93-41f5-9f70-2e059dd69a22"
      },
      "execution_count": null,
      "outputs": [
        {
          "output_type": "execute_result",
          "data": {
            "text/plain": [
              "Index(['Smiles', 'Name', 'S NO', 'PubchemFP0', 'PubchemFP1', 'PubchemFP2',\n",
              "       'PubchemFP3', 'PubchemFP4', 'PubchemFP5', 'PubchemFP6',\n",
              "       ...\n",
              "       'PubchemFP871', 'PubchemFP872', 'PubchemFP873', 'PubchemFP874',\n",
              "       'PubchemFP875', 'PubchemFP876', 'PubchemFP877', 'PubchemFP878',\n",
              "       'PubchemFP879', 'PubchemFP880'],\n",
              "      dtype='object', length=884)"
            ]
          },
          "metadata": {},
          "execution_count": 6
        }
      ]
    },
    {
      "cell_type": "code",
      "source": [
        "df1"
      ],
      "metadata": {
        "colab": {
          "base_uri": "https://localhost:8080/",
          "height": 488
        },
        "id": "sQD3wDOkD5HJ",
        "outputId": "de220a25-af65-4586-94e9-c6f97ca8df96"
      },
      "execution_count": null,
      "outputs": [
        {
          "output_type": "execute_result",
          "data": {
            "text/plain": [
              "                                                 Smiles        Name  S NO  \\\n",
              "0     Cc1cccnc1CN1CCC2(CC1)N(C(=O)N(C2=O)c1ccc(cc1)-...         0.2     0   \n",
              "1     COc1cc(ncn1)N1C(=O)N(C(=O)C11CCN(Cc2ncccc2C)CC...         0.2     1   \n",
              "2     COc1nccnc1N1C(=O)N(C(=O)C11CCN(Cc2ncccc2C)CC1)...         0.2     2   \n",
              "3     Cc1cccnc1CN1CCC2(CC1)N(C(=O)N(C2=O)c1ccc(cc1)-...         0.2     3   \n",
              "4     Cc1cccnc1CN1CCC2(CC1)N(C(=O)N(C2=O)c1ccc(cc1)-...         0.2     4   \n",
              "...                                                 ...         ...   ...   \n",
              "2542                               CC(=O)CC(=O)NCC(O)=O   1000000.0  2542   \n",
              "2543                        OC(=O)CNC(=O)CC(=O)c1ccccc1   1000000.0  2543   \n",
              "2544                             CCOC(=O)CC(=O)NCC(O)=O   1000000.0  2544   \n",
              "2545                OC(C(CC([O-])=O)C([O-])=O)C([O-])=O  10000000.0  2545   \n",
              "2546                                     OC(=O)CCC(O)=O  10000000.0  2546   \n",
              "\n",
              "      PubchemFP0  PubchemFP1  PubchemFP2  PubchemFP3  PubchemFP4  PubchemFP5  \\\n",
              "0              1           1           1           0           0           0   \n",
              "1              1           1           1           1           0           0   \n",
              "2              1           1           1           1           0           0   \n",
              "3              1           1           1           0           0           0   \n",
              "4              1           1           1           0           0           0   \n",
              "...          ...         ...         ...         ...         ...         ...   \n",
              "2542           1           1           0           0           0           0   \n",
              "2543           1           1           0           0           0           0   \n",
              "2544           1           1           0           0           0           0   \n",
              "2545           1           0           0           0           0           0   \n",
              "2546           1           0           0           0           0           0   \n",
              "\n",
              "      PubchemFP6  ...  PubchemFP871  PubchemFP872  PubchemFP873  PubchemFP874  \\\n",
              "0              0  ...             0             0             0             0   \n",
              "1              0  ...             0             0             0             0   \n",
              "2              0  ...             0             0             0             0   \n",
              "3              0  ...             0             0             0             0   \n",
              "4              0  ...             0             0             0             0   \n",
              "...          ...  ...           ...           ...           ...           ...   \n",
              "2542           0  ...             0             0             0             0   \n",
              "2543           0  ...             0             0             0             0   \n",
              "2544           0  ...             0             0             0             0   \n",
              "2545           0  ...             0             0             0             0   \n",
              "2546           0  ...             0             0             0             0   \n",
              "\n",
              "      PubchemFP875  PubchemFP876  PubchemFP877  PubchemFP878  PubchemFP879  \\\n",
              "0                0             0             0             0             0   \n",
              "1                0             0             0             0             0   \n",
              "2                0             0             0             0             0   \n",
              "3                0             0             0             0             0   \n",
              "4                0             0             0             0             0   \n",
              "...            ...           ...           ...           ...           ...   \n",
              "2542             0             0             0             0             0   \n",
              "2543             0             0             0             0             0   \n",
              "2544             0             0             0             0             0   \n",
              "2545             0             0             0             0             0   \n",
              "2546             0             0             0             0             0   \n",
              "\n",
              "      PubchemFP880  \n",
              "0                0  \n",
              "1                0  \n",
              "2                0  \n",
              "3                0  \n",
              "4                0  \n",
              "...            ...  \n",
              "2542             0  \n",
              "2543             0  \n",
              "2544             0  \n",
              "2545             0  \n",
              "2546             0  \n",
              "\n",
              "[2547 rows x 884 columns]"
            ],
            "text/html": [
              "\n",
              "  <div id=\"df-453021cb-2b61-47dd-9e53-ec78fd746594\">\n",
              "    <div class=\"colab-df-container\">\n",
              "      <div>\n",
              "<style scoped>\n",
              "    .dataframe tbody tr th:only-of-type {\n",
              "        vertical-align: middle;\n",
              "    }\n",
              "\n",
              "    .dataframe tbody tr th {\n",
              "        vertical-align: top;\n",
              "    }\n",
              "\n",
              "    .dataframe thead th {\n",
              "        text-align: right;\n",
              "    }\n",
              "</style>\n",
              "<table border=\"1\" class=\"dataframe\">\n",
              "  <thead>\n",
              "    <tr style=\"text-align: right;\">\n",
              "      <th></th>\n",
              "      <th>Smiles</th>\n",
              "      <th>Name</th>\n",
              "      <th>S NO</th>\n",
              "      <th>PubchemFP0</th>\n",
              "      <th>PubchemFP1</th>\n",
              "      <th>PubchemFP2</th>\n",
              "      <th>PubchemFP3</th>\n",
              "      <th>PubchemFP4</th>\n",
              "      <th>PubchemFP5</th>\n",
              "      <th>PubchemFP6</th>\n",
              "      <th>...</th>\n",
              "      <th>PubchemFP871</th>\n",
              "      <th>PubchemFP872</th>\n",
              "      <th>PubchemFP873</th>\n",
              "      <th>PubchemFP874</th>\n",
              "      <th>PubchemFP875</th>\n",
              "      <th>PubchemFP876</th>\n",
              "      <th>PubchemFP877</th>\n",
              "      <th>PubchemFP878</th>\n",
              "      <th>PubchemFP879</th>\n",
              "      <th>PubchemFP880</th>\n",
              "    </tr>\n",
              "  </thead>\n",
              "  <tbody>\n",
              "    <tr>\n",
              "      <th>0</th>\n",
              "      <td>Cc1cccnc1CN1CCC2(CC1)N(C(=O)N(C2=O)c1ccc(cc1)-...</td>\n",
              "      <td>0.2</td>\n",
              "      <td>0</td>\n",
              "      <td>1</td>\n",
              "      <td>1</td>\n",
              "      <td>1</td>\n",
              "      <td>0</td>\n",
              "      <td>0</td>\n",
              "      <td>0</td>\n",
              "      <td>0</td>\n",
              "      <td>...</td>\n",
              "      <td>0</td>\n",
              "      <td>0</td>\n",
              "      <td>0</td>\n",
              "      <td>0</td>\n",
              "      <td>0</td>\n",
              "      <td>0</td>\n",
              "      <td>0</td>\n",
              "      <td>0</td>\n",
              "      <td>0</td>\n",
              "      <td>0</td>\n",
              "    </tr>\n",
              "    <tr>\n",
              "      <th>1</th>\n",
              "      <td>COc1cc(ncn1)N1C(=O)N(C(=O)C11CCN(Cc2ncccc2C)CC...</td>\n",
              "      <td>0.2</td>\n",
              "      <td>1</td>\n",
              "      <td>1</td>\n",
              "      <td>1</td>\n",
              "      <td>1</td>\n",
              "      <td>1</td>\n",
              "      <td>0</td>\n",
              "      <td>0</td>\n",
              "      <td>0</td>\n",
              "      <td>...</td>\n",
              "      <td>0</td>\n",
              "      <td>0</td>\n",
              "      <td>0</td>\n",
              "      <td>0</td>\n",
              "      <td>0</td>\n",
              "      <td>0</td>\n",
              "      <td>0</td>\n",
              "      <td>0</td>\n",
              "      <td>0</td>\n",
              "      <td>0</td>\n",
              "    </tr>\n",
              "    <tr>\n",
              "      <th>2</th>\n",
              "      <td>COc1nccnc1N1C(=O)N(C(=O)C11CCN(Cc2ncccc2C)CC1)...</td>\n",
              "      <td>0.2</td>\n",
              "      <td>2</td>\n",
              "      <td>1</td>\n",
              "      <td>1</td>\n",
              "      <td>1</td>\n",
              "      <td>1</td>\n",
              "      <td>0</td>\n",
              "      <td>0</td>\n",
              "      <td>0</td>\n",
              "      <td>...</td>\n",
              "      <td>0</td>\n",
              "      <td>0</td>\n",
              "      <td>0</td>\n",
              "      <td>0</td>\n",
              "      <td>0</td>\n",
              "      <td>0</td>\n",
              "      <td>0</td>\n",
              "      <td>0</td>\n",
              "      <td>0</td>\n",
              "      <td>0</td>\n",
              "    </tr>\n",
              "    <tr>\n",
              "      <th>3</th>\n",
              "      <td>Cc1cccnc1CN1CCC2(CC1)N(C(=O)N(C2=O)c1ccc(cc1)-...</td>\n",
              "      <td>0.2</td>\n",
              "      <td>3</td>\n",
              "      <td>1</td>\n",
              "      <td>1</td>\n",
              "      <td>1</td>\n",
              "      <td>0</td>\n",
              "      <td>0</td>\n",
              "      <td>0</td>\n",
              "      <td>0</td>\n",
              "      <td>...</td>\n",
              "      <td>0</td>\n",
              "      <td>0</td>\n",
              "      <td>0</td>\n",
              "      <td>0</td>\n",
              "      <td>0</td>\n",
              "      <td>0</td>\n",
              "      <td>0</td>\n",
              "      <td>0</td>\n",
              "      <td>0</td>\n",
              "      <td>0</td>\n",
              "    </tr>\n",
              "    <tr>\n",
              "      <th>4</th>\n",
              "      <td>Cc1cccnc1CN1CCC2(CC1)N(C(=O)N(C2=O)c1ccc(cc1)-...</td>\n",
              "      <td>0.2</td>\n",
              "      <td>4</td>\n",
              "      <td>1</td>\n",
              "      <td>1</td>\n",
              "      <td>1</td>\n",
              "      <td>0</td>\n",
              "      <td>0</td>\n",
              "      <td>0</td>\n",
              "      <td>0</td>\n",
              "      <td>...</td>\n",
              "      <td>0</td>\n",
              "      <td>0</td>\n",
              "      <td>0</td>\n",
              "      <td>0</td>\n",
              "      <td>0</td>\n",
              "      <td>0</td>\n",
              "      <td>0</td>\n",
              "      <td>0</td>\n",
              "      <td>0</td>\n",
              "      <td>0</td>\n",
              "    </tr>\n",
              "    <tr>\n",
              "      <th>...</th>\n",
              "      <td>...</td>\n",
              "      <td>...</td>\n",
              "      <td>...</td>\n",
              "      <td>...</td>\n",
              "      <td>...</td>\n",
              "      <td>...</td>\n",
              "      <td>...</td>\n",
              "      <td>...</td>\n",
              "      <td>...</td>\n",
              "      <td>...</td>\n",
              "      <td>...</td>\n",
              "      <td>...</td>\n",
              "      <td>...</td>\n",
              "      <td>...</td>\n",
              "      <td>...</td>\n",
              "      <td>...</td>\n",
              "      <td>...</td>\n",
              "      <td>...</td>\n",
              "      <td>...</td>\n",
              "      <td>...</td>\n",
              "      <td>...</td>\n",
              "    </tr>\n",
              "    <tr>\n",
              "      <th>2542</th>\n",
              "      <td>CC(=O)CC(=O)NCC(O)=O</td>\n",
              "      <td>1000000.0</td>\n",
              "      <td>2542</td>\n",
              "      <td>1</td>\n",
              "      <td>1</td>\n",
              "      <td>0</td>\n",
              "      <td>0</td>\n",
              "      <td>0</td>\n",
              "      <td>0</td>\n",
              "      <td>0</td>\n",
              "      <td>...</td>\n",
              "      <td>0</td>\n",
              "      <td>0</td>\n",
              "      <td>0</td>\n",
              "      <td>0</td>\n",
              "      <td>0</td>\n",
              "      <td>0</td>\n",
              "      <td>0</td>\n",
              "      <td>0</td>\n",
              "      <td>0</td>\n",
              "      <td>0</td>\n",
              "    </tr>\n",
              "    <tr>\n",
              "      <th>2543</th>\n",
              "      <td>OC(=O)CNC(=O)CC(=O)c1ccccc1</td>\n",
              "      <td>1000000.0</td>\n",
              "      <td>2543</td>\n",
              "      <td>1</td>\n",
              "      <td>1</td>\n",
              "      <td>0</td>\n",
              "      <td>0</td>\n",
              "      <td>0</td>\n",
              "      <td>0</td>\n",
              "      <td>0</td>\n",
              "      <td>...</td>\n",
              "      <td>0</td>\n",
              "      <td>0</td>\n",
              "      <td>0</td>\n",
              "      <td>0</td>\n",
              "      <td>0</td>\n",
              "      <td>0</td>\n",
              "      <td>0</td>\n",
              "      <td>0</td>\n",
              "      <td>0</td>\n",
              "      <td>0</td>\n",
              "    </tr>\n",
              "    <tr>\n",
              "      <th>2544</th>\n",
              "      <td>CCOC(=O)CC(=O)NCC(O)=O</td>\n",
              "      <td>1000000.0</td>\n",
              "      <td>2544</td>\n",
              "      <td>1</td>\n",
              "      <td>1</td>\n",
              "      <td>0</td>\n",
              "      <td>0</td>\n",
              "      <td>0</td>\n",
              "      <td>0</td>\n",
              "      <td>0</td>\n",
              "      <td>...</td>\n",
              "      <td>0</td>\n",
              "      <td>0</td>\n",
              "      <td>0</td>\n",
              "      <td>0</td>\n",
              "      <td>0</td>\n",
              "      <td>0</td>\n",
              "      <td>0</td>\n",
              "      <td>0</td>\n",
              "      <td>0</td>\n",
              "      <td>0</td>\n",
              "    </tr>\n",
              "    <tr>\n",
              "      <th>2545</th>\n",
              "      <td>OC(C(CC([O-])=O)C([O-])=O)C([O-])=O</td>\n",
              "      <td>10000000.0</td>\n",
              "      <td>2545</td>\n",
              "      <td>1</td>\n",
              "      <td>0</td>\n",
              "      <td>0</td>\n",
              "      <td>0</td>\n",
              "      <td>0</td>\n",
              "      <td>0</td>\n",
              "      <td>0</td>\n",
              "      <td>...</td>\n",
              "      <td>0</td>\n",
              "      <td>0</td>\n",
              "      <td>0</td>\n",
              "      <td>0</td>\n",
              "      <td>0</td>\n",
              "      <td>0</td>\n",
              "      <td>0</td>\n",
              "      <td>0</td>\n",
              "      <td>0</td>\n",
              "      <td>0</td>\n",
              "    </tr>\n",
              "    <tr>\n",
              "      <th>2546</th>\n",
              "      <td>OC(=O)CCC(O)=O</td>\n",
              "      <td>10000000.0</td>\n",
              "      <td>2546</td>\n",
              "      <td>1</td>\n",
              "      <td>0</td>\n",
              "      <td>0</td>\n",
              "      <td>0</td>\n",
              "      <td>0</td>\n",
              "      <td>0</td>\n",
              "      <td>0</td>\n",
              "      <td>...</td>\n",
              "      <td>0</td>\n",
              "      <td>0</td>\n",
              "      <td>0</td>\n",
              "      <td>0</td>\n",
              "      <td>0</td>\n",
              "      <td>0</td>\n",
              "      <td>0</td>\n",
              "      <td>0</td>\n",
              "      <td>0</td>\n",
              "      <td>0</td>\n",
              "    </tr>\n",
              "  </tbody>\n",
              "</table>\n",
              "<p>2547 rows × 884 columns</p>\n",
              "</div>\n",
              "      <button class=\"colab-df-convert\" onclick=\"convertToInteractive('df-453021cb-2b61-47dd-9e53-ec78fd746594')\"\n",
              "              title=\"Convert this dataframe to an interactive table.\"\n",
              "              style=\"display:none;\">\n",
              "        \n",
              "  <svg xmlns=\"http://www.w3.org/2000/svg\" height=\"24px\"viewBox=\"0 0 24 24\"\n",
              "       width=\"24px\">\n",
              "    <path d=\"M0 0h24v24H0V0z\" fill=\"none\"/>\n",
              "    <path d=\"M18.56 5.44l.94 2.06.94-2.06 2.06-.94-2.06-.94-.94-2.06-.94 2.06-2.06.94zm-11 1L8.5 8.5l.94-2.06 2.06-.94-2.06-.94L8.5 2.5l-.94 2.06-2.06.94zm10 10l.94 2.06.94-2.06 2.06-.94-2.06-.94-.94-2.06-.94 2.06-2.06.94z\"/><path d=\"M17.41 7.96l-1.37-1.37c-.4-.4-.92-.59-1.43-.59-.52 0-1.04.2-1.43.59L10.3 9.45l-7.72 7.72c-.78.78-.78 2.05 0 2.83L4 21.41c.39.39.9.59 1.41.59.51 0 1.02-.2 1.41-.59l7.78-7.78 2.81-2.81c.8-.78.8-2.07 0-2.86zM5.41 20L4 18.59l7.72-7.72 1.47 1.35L5.41 20z\"/>\n",
              "  </svg>\n",
              "      </button>\n",
              "      \n",
              "  <style>\n",
              "    .colab-df-container {\n",
              "      display:flex;\n",
              "      flex-wrap:wrap;\n",
              "      gap: 12px;\n",
              "    }\n",
              "\n",
              "    .colab-df-convert {\n",
              "      background-color: #E8F0FE;\n",
              "      border: none;\n",
              "      border-radius: 50%;\n",
              "      cursor: pointer;\n",
              "      display: none;\n",
              "      fill: #1967D2;\n",
              "      height: 32px;\n",
              "      padding: 0 0 0 0;\n",
              "      width: 32px;\n",
              "    }\n",
              "\n",
              "    .colab-df-convert:hover {\n",
              "      background-color: #E2EBFA;\n",
              "      box-shadow: 0px 1px 2px rgba(60, 64, 67, 0.3), 0px 1px 3px 1px rgba(60, 64, 67, 0.15);\n",
              "      fill: #174EA6;\n",
              "    }\n",
              "\n",
              "    [theme=dark] .colab-df-convert {\n",
              "      background-color: #3B4455;\n",
              "      fill: #D2E3FC;\n",
              "    }\n",
              "\n",
              "    [theme=dark] .colab-df-convert:hover {\n",
              "      background-color: #434B5C;\n",
              "      box-shadow: 0px 1px 3px 1px rgba(0, 0, 0, 0.15);\n",
              "      filter: drop-shadow(0px 1px 2px rgba(0, 0, 0, 0.3));\n",
              "      fill: #FFFFFF;\n",
              "    }\n",
              "  </style>\n",
              "\n",
              "      <script>\n",
              "        const buttonEl =\n",
              "          document.querySelector('#df-453021cb-2b61-47dd-9e53-ec78fd746594 button.colab-df-convert');\n",
              "        buttonEl.style.display =\n",
              "          google.colab.kernel.accessAllowed ? 'block' : 'none';\n",
              "\n",
              "        async function convertToInteractive(key) {\n",
              "          const element = document.querySelector('#df-453021cb-2b61-47dd-9e53-ec78fd746594');\n",
              "          const dataTable =\n",
              "            await google.colab.kernel.invokeFunction('convertToInteractive',\n",
              "                                                     [key], {});\n",
              "          if (!dataTable) return;\n",
              "\n",
              "          const docLinkHtml = 'Like what you see? Visit the ' +\n",
              "            '<a target=\"_blank\" href=https://colab.research.google.com/notebooks/data_table.ipynb>data table notebook</a>'\n",
              "            + ' to learn more about interactive tables.';\n",
              "          element.innerHTML = '';\n",
              "          dataTable['output_type'] = 'display_data';\n",
              "          await google.colab.output.renderOutput(dataTable, element);\n",
              "          const docLink = document.createElement('div');\n",
              "          docLink.innerHTML = docLinkHtml;\n",
              "          element.appendChild(docLink);\n",
              "        }\n",
              "      </script>\n",
              "    </div>\n",
              "  </div>\n",
              "  "
            ]
          },
          "metadata": {},
          "execution_count": 7
        }
      ]
    },
    {
      "cell_type": "code",
      "source": [
        "df1.rename(columns = {'Name':'IC50' }, inplace = True)"
      ],
      "metadata": {
        "id": "wdKFBCDMacNM"
      },
      "execution_count": null,
      "outputs": []
    },
    {
      "cell_type": "code",
      "source": [
        "df['binned_IC50'] = pd.cut(df['IC50'], bins=[0,5000,20000,10000000], labels=['H','M','L'])"
      ],
      "metadata": {
        "id": "qnEMseF4Zvns"
      },
      "execution_count": null,
      "outputs": []
    },
    {
      "cell_type": "code",
      "source": [
        "df.binned_IC50.value_counts()"
      ],
      "metadata": {
        "colab": {
          "base_uri": "https://localhost:8080/"
        },
        "id": "NFxJPfZtZJa8",
        "outputId": "ee956499-6ace-4071-e51f-3f94b9c9c339"
      },
      "execution_count": null,
      "outputs": [
        {
          "output_type": "execute_result",
          "data": {
            "text/plain": [
              "H    1809\n",
              "L     420\n",
              "M     318\n",
              "Name: binned_IC50, dtype: int64"
            ]
          },
          "metadata": {},
          "execution_count": 10
        }
      ]
    },
    {
      "cell_type": "code",
      "source": [
        "df = df.replace(np.nan, 0)\n",
        "df['binned_IC50'] =df['binned_IC50'].astype(object)\n",
        "df['binned_IC50'] = df['binned_IC50'].replace(np.nan, 'NA')"
      ],
      "metadata": {
        "id": "WDPsINg78df1"
      },
      "execution_count": null,
      "outputs": []
    },
    {
      "cell_type": "code",
      "source": [
        "# Import label encoder\n",
        "from sklearn import preprocessing\n",
        "  \n",
        "# label_encoder object knows how to understand word labels.\n",
        "label_encoder = preprocessing.LabelEncoder()\n",
        "  \n",
        "# Encode labels in column 'species'.\n",
        "df['encoded_binned_IC50']= label_encoder.fit_transform(df['binned_IC50'])"
      ],
      "metadata": {
        "id": "akHjZ75gx4Um"
      },
      "execution_count": null,
      "outputs": []
    },
    {
      "cell_type": "code",
      "source": [
        "df1 = df[(df.binned_IC50 != 'M')]"
      ],
      "metadata": {
        "id": "VcCnqKQj8VsM"
      },
      "execution_count": null,
      "outputs": []
    },
    {
      "cell_type": "code",
      "source": [
        "df.isna().sum()"
      ],
      "metadata": {
        "colab": {
          "base_uri": "https://localhost:8080/"
        },
        "id": "q-441JKt8lEq",
        "outputId": "c654030a-56b4-41e4-aecf-7976d987d25d"
      },
      "execution_count": null,
      "outputs": [
        {
          "output_type": "execute_result",
          "data": {
            "text/plain": [
              "Smiles                 0\n",
              "IC50                   0\n",
              "S NO                   0\n",
              "PubchemFP0             0\n",
              "PubchemFP1             0\n",
              "                      ..\n",
              "PubchemFP878           0\n",
              "PubchemFP879           0\n",
              "PubchemFP880           0\n",
              "binned_IC50            0\n",
              "encoded_binned_IC50    0\n",
              "Length: 886, dtype: int64"
            ]
          },
          "metadata": {},
          "execution_count": 14
        }
      ]
    },
    {
      "cell_type": "code",
      "source": [
        "df1.columns"
      ],
      "metadata": {
        "colab": {
          "base_uri": "https://localhost:8080/"
        },
        "id": "f7tub52cahND",
        "outputId": "f894fbd1-9eba-4b60-c3be-f01a9b4748f6"
      },
      "execution_count": null,
      "outputs": [
        {
          "output_type": "execute_result",
          "data": {
            "text/plain": [
              "Index(['Smiles', 'IC50', 'S NO', 'PubchemFP0', 'PubchemFP1', 'PubchemFP2',\n",
              "       'PubchemFP3', 'PubchemFP4', 'PubchemFP5', 'PubchemFP6',\n",
              "       ...\n",
              "       'PubchemFP873', 'PubchemFP874', 'PubchemFP875', 'PubchemFP876',\n",
              "       'PubchemFP877', 'PubchemFP878', 'PubchemFP879', 'PubchemFP880',\n",
              "       'binned_IC50', 'encoded_binned_IC50'],\n",
              "      dtype='object', length=886)"
            ]
          },
          "metadata": {},
          "execution_count": 15
        }
      ]
    },
    {
      "cell_type": "code",
      "execution_count": null,
      "metadata": {
        "id": "41cZiEoOdWYC"
      },
      "outputs": [],
      "source": [
        "a=['Smiles', 'IC50', 'S NO','binned_IC50', 'encoded_binned_IC50']\n",
        "X = df1.drop(a, axis=1)"
      ]
    },
    {
      "cell_type": "code",
      "execution_count": null,
      "metadata": {
        "id": "w1nbdl6lPFuc"
      },
      "outputs": [],
      "source": [
        "Y = df1.encoded_binned_IC50"
      ]
    },
    {
      "cell_type": "code",
      "source": [
        "X.shape"
      ],
      "metadata": {
        "colab": {
          "base_uri": "https://localhost:8080/"
        },
        "id": "En9IJ9SBZkz6",
        "outputId": "636aace7-d6df-4272-fa64-12ae78408cfb"
      },
      "execution_count": null,
      "outputs": [
        {
          "output_type": "execute_result",
          "data": {
            "text/plain": [
              "(2229, 881)"
            ]
          },
          "metadata": {},
          "execution_count": 18
        }
      ]
    },
    {
      "cell_type": "code",
      "source": [
        "Y.shape"
      ],
      "metadata": {
        "colab": {
          "base_uri": "https://localhost:8080/"
        },
        "id": "VS20-XhuZk2r",
        "outputId": "66eb213d-9c38-4f1d-9a31-2477875edab7"
      },
      "execution_count": null,
      "outputs": [
        {
          "output_type": "execute_result",
          "data": {
            "text/plain": [
              "(2229,)"
            ]
          },
          "metadata": {},
          "execution_count": 19
        }
      ]
    },
    {
      "cell_type": "code",
      "source": [
        "Y.unique()"
      ],
      "metadata": {
        "colab": {
          "base_uri": "https://localhost:8080/"
        },
        "id": "w6g5naoopKY2",
        "outputId": "64021070-68be-40d1-fcd3-5766c1f5f8a2"
      },
      "execution_count": null,
      "outputs": [
        {
          "output_type": "execute_result",
          "data": {
            "text/plain": [
              "array([0, 1])"
            ]
          },
          "metadata": {},
          "execution_count": 20
        }
      ]
    },
    {
      "cell_type": "code",
      "source": [
        "from sklearn.feature_selection import VarianceThreshold\n",
        "from itertools import compress\n",
        "\n",
        "def fs_variance(df, threshold:float=0.1):\n",
        "    \"\"\"\n",
        "    Return a list of selected variables based on the threshold.\n",
        "    \"\"\"\n",
        "\n",
        "    # The list of columns in the data frame\n",
        "    features = list(df.columns)\n",
        "    \n",
        "    # Initialize and fit the method\n",
        "    vt = VarianceThreshold(threshold = threshold)\n",
        "    _ = vt.fit(df)\n",
        "    \n",
        "    # Get which column names which pass the threshold\n",
        "    feat_select = list(compress(features, vt.get_support()))\n",
        "    \n",
        "    return feat_select\n",
        "\n"
      ],
      "metadata": {
        "id": "we9U1C13Zk5i"
      },
      "execution_count": null,
      "outputs": []
    },
    {
      "cell_type": "code",
      "source": [
        "t=(.8 * (1 - .8))\n",
        "b = fs_variance(X, t)\n",
        "from sklearn.feature_selection import VarianceThreshold\n",
        "selection = VarianceThreshold(threshold=(.8 * (1 - .8)))    \n",
        "X = selection.fit_transform(X)\n",
        "X.shape"
      ],
      "metadata": {
        "colab": {
          "base_uri": "https://localhost:8080/"
        },
        "id": "DLQO23TSZk8M",
        "outputId": "23c3092e-7bb0-4956-a047-f2a68ebf9f5f"
      },
      "execution_count": null,
      "outputs": [
        {
          "output_type": "execute_result",
          "data": {
            "text/plain": [
              "(2229, 153)"
            ]
          },
          "metadata": {},
          "execution_count": 22
        }
      ]
    },
    {
      "cell_type": "code",
      "source": [
        "inh_selected_fetures = pd.DataFrame(b)\n",
        "inh_selected_fetures"
      ],
      "metadata": {
        "colab": {
          "base_uri": "https://localhost:8080/",
          "height": 424
        },
        "id": "kp5CLMKD45Ba",
        "outputId": "0cfbd3eb-bdf5-4935-ef62-8d6f3b261cda"
      },
      "execution_count": null,
      "outputs": [
        {
          "output_type": "execute_result",
          "data": {
            "text/plain": [
              "                0\n",
              "0      PubchemFP2\n",
              "1     PubchemFP16\n",
              "2     PubchemFP20\n",
              "3    PubchemFP143\n",
              "4    PubchemFP145\n",
              "..            ...\n",
              "148  PubchemFP734\n",
              "149  PubchemFP755\n",
              "150  PubchemFP776\n",
              "151  PubchemFP797\n",
              "152  PubchemFP818\n",
              "\n",
              "[153 rows x 1 columns]"
            ],
            "text/html": [
              "\n",
              "  <div id=\"df-d77d61e9-a7be-48af-b593-deb49480c180\">\n",
              "    <div class=\"colab-df-container\">\n",
              "      <div>\n",
              "<style scoped>\n",
              "    .dataframe tbody tr th:only-of-type {\n",
              "        vertical-align: middle;\n",
              "    }\n",
              "\n",
              "    .dataframe tbody tr th {\n",
              "        vertical-align: top;\n",
              "    }\n",
              "\n",
              "    .dataframe thead th {\n",
              "        text-align: right;\n",
              "    }\n",
              "</style>\n",
              "<table border=\"1\" class=\"dataframe\">\n",
              "  <thead>\n",
              "    <tr style=\"text-align: right;\">\n",
              "      <th></th>\n",
              "      <th>0</th>\n",
              "    </tr>\n",
              "  </thead>\n",
              "  <tbody>\n",
              "    <tr>\n",
              "      <th>0</th>\n",
              "      <td>PubchemFP2</td>\n",
              "    </tr>\n",
              "    <tr>\n",
              "      <th>1</th>\n",
              "      <td>PubchemFP16</td>\n",
              "    </tr>\n",
              "    <tr>\n",
              "      <th>2</th>\n",
              "      <td>PubchemFP20</td>\n",
              "    </tr>\n",
              "    <tr>\n",
              "      <th>3</th>\n",
              "      <td>PubchemFP143</td>\n",
              "    </tr>\n",
              "    <tr>\n",
              "      <th>4</th>\n",
              "      <td>PubchemFP145</td>\n",
              "    </tr>\n",
              "    <tr>\n",
              "      <th>...</th>\n",
              "      <td>...</td>\n",
              "    </tr>\n",
              "    <tr>\n",
              "      <th>148</th>\n",
              "      <td>PubchemFP734</td>\n",
              "    </tr>\n",
              "    <tr>\n",
              "      <th>149</th>\n",
              "      <td>PubchemFP755</td>\n",
              "    </tr>\n",
              "    <tr>\n",
              "      <th>150</th>\n",
              "      <td>PubchemFP776</td>\n",
              "    </tr>\n",
              "    <tr>\n",
              "      <th>151</th>\n",
              "      <td>PubchemFP797</td>\n",
              "    </tr>\n",
              "    <tr>\n",
              "      <th>152</th>\n",
              "      <td>PubchemFP818</td>\n",
              "    </tr>\n",
              "  </tbody>\n",
              "</table>\n",
              "<p>153 rows × 1 columns</p>\n",
              "</div>\n",
              "      <button class=\"colab-df-convert\" onclick=\"convertToInteractive('df-d77d61e9-a7be-48af-b593-deb49480c180')\"\n",
              "              title=\"Convert this dataframe to an interactive table.\"\n",
              "              style=\"display:none;\">\n",
              "        \n",
              "  <svg xmlns=\"http://www.w3.org/2000/svg\" height=\"24px\"viewBox=\"0 0 24 24\"\n",
              "       width=\"24px\">\n",
              "    <path d=\"M0 0h24v24H0V0z\" fill=\"none\"/>\n",
              "    <path d=\"M18.56 5.44l.94 2.06.94-2.06 2.06-.94-2.06-.94-.94-2.06-.94 2.06-2.06.94zm-11 1L8.5 8.5l.94-2.06 2.06-.94-2.06-.94L8.5 2.5l-.94 2.06-2.06.94zm10 10l.94 2.06.94-2.06 2.06-.94-2.06-.94-.94-2.06-.94 2.06-2.06.94z\"/><path d=\"M17.41 7.96l-1.37-1.37c-.4-.4-.92-.59-1.43-.59-.52 0-1.04.2-1.43.59L10.3 9.45l-7.72 7.72c-.78.78-.78 2.05 0 2.83L4 21.41c.39.39.9.59 1.41.59.51 0 1.02-.2 1.41-.59l7.78-7.78 2.81-2.81c.8-.78.8-2.07 0-2.86zM5.41 20L4 18.59l7.72-7.72 1.47 1.35L5.41 20z\"/>\n",
              "  </svg>\n",
              "      </button>\n",
              "      \n",
              "  <style>\n",
              "    .colab-df-container {\n",
              "      display:flex;\n",
              "      flex-wrap:wrap;\n",
              "      gap: 12px;\n",
              "    }\n",
              "\n",
              "    .colab-df-convert {\n",
              "      background-color: #E8F0FE;\n",
              "      border: none;\n",
              "      border-radius: 50%;\n",
              "      cursor: pointer;\n",
              "      display: none;\n",
              "      fill: #1967D2;\n",
              "      height: 32px;\n",
              "      padding: 0 0 0 0;\n",
              "      width: 32px;\n",
              "    }\n",
              "\n",
              "    .colab-df-convert:hover {\n",
              "      background-color: #E2EBFA;\n",
              "      box-shadow: 0px 1px 2px rgba(60, 64, 67, 0.3), 0px 1px 3px 1px rgba(60, 64, 67, 0.15);\n",
              "      fill: #174EA6;\n",
              "    }\n",
              "\n",
              "    [theme=dark] .colab-df-convert {\n",
              "      background-color: #3B4455;\n",
              "      fill: #D2E3FC;\n",
              "    }\n",
              "\n",
              "    [theme=dark] .colab-df-convert:hover {\n",
              "      background-color: #434B5C;\n",
              "      box-shadow: 0px 1px 3px 1px rgba(0, 0, 0, 0.15);\n",
              "      filter: drop-shadow(0px 1px 2px rgba(0, 0, 0, 0.3));\n",
              "      fill: #FFFFFF;\n",
              "    }\n",
              "  </style>\n",
              "\n",
              "      <script>\n",
              "        const buttonEl =\n",
              "          document.querySelector('#df-d77d61e9-a7be-48af-b593-deb49480c180 button.colab-df-convert');\n",
              "        buttonEl.style.display =\n",
              "          google.colab.kernel.accessAllowed ? 'block' : 'none';\n",
              "\n",
              "        async function convertToInteractive(key) {\n",
              "          const element = document.querySelector('#df-d77d61e9-a7be-48af-b593-deb49480c180');\n",
              "          const dataTable =\n",
              "            await google.colab.kernel.invokeFunction('convertToInteractive',\n",
              "                                                     [key], {});\n",
              "          if (!dataTable) return;\n",
              "\n",
              "          const docLinkHtml = 'Like what you see? Visit the ' +\n",
              "            '<a target=\"_blank\" href=https://colab.research.google.com/notebooks/data_table.ipynb>data table notebook</a>'\n",
              "            + ' to learn more about interactive tables.';\n",
              "          element.innerHTML = '';\n",
              "          dataTable['output_type'] = 'display_data';\n",
              "          await google.colab.output.renderOutput(dataTable, element);\n",
              "          const docLink = document.createElement('div');\n",
              "          docLink.innerHTML = docLinkHtml;\n",
              "          element.appendChild(docLink);\n",
              "        }\n",
              "      </script>\n",
              "    </div>\n",
              "  </div>\n",
              "  "
            ]
          },
          "metadata": {},
          "execution_count": 23
        }
      ]
    },
    {
      "cell_type": "code",
      "source": [
        "inh_selected_fetures = inh_selected_fetures[0].tolist()"
      ],
      "metadata": {
        "id": "RX5NDqcCVDhf"
      },
      "execution_count": null,
      "outputs": []
    },
    {
      "cell_type": "code",
      "source": [
        "inh_selected_fetures"
      ],
      "metadata": {
        "colab": {
          "base_uri": "https://localhost:8080/"
        },
        "id": "gcIL1y1QW0AG",
        "outputId": "a1dd094f-a7dd-483a-8d29-b2353d3323e1"
      },
      "execution_count": null,
      "outputs": [
        {
          "output_type": "execute_result",
          "data": {
            "text/plain": [
              "['PubchemFP2',\n",
              " 'PubchemFP16',\n",
              " 'PubchemFP20',\n",
              " 'PubchemFP143',\n",
              " 'PubchemFP145',\n",
              " 'PubchemFP146',\n",
              " 'PubchemFP186',\n",
              " 'PubchemFP187',\n",
              " 'PubchemFP188',\n",
              " 'PubchemFP192',\n",
              " 'PubchemFP199',\n",
              " 'PubchemFP258',\n",
              " 'PubchemFP259',\n",
              " 'PubchemFP261',\n",
              " 'PubchemFP299',\n",
              " 'PubchemFP300',\n",
              " 'PubchemFP341',\n",
              " 'PubchemFP346',\n",
              " 'PubchemFP357',\n",
              " 'PubchemFP359',\n",
              " 'PubchemFP366',\n",
              " 'PubchemFP372',\n",
              " 'PubchemFP373',\n",
              " 'PubchemFP374',\n",
              " 'PubchemFP375',\n",
              " 'PubchemFP377',\n",
              " 'PubchemFP378',\n",
              " 'PubchemFP379',\n",
              " 'PubchemFP380',\n",
              " 'PubchemFP381',\n",
              " 'PubchemFP382',\n",
              " 'PubchemFP385',\n",
              " 'PubchemFP386',\n",
              " 'PubchemFP388',\n",
              " 'PubchemFP389',\n",
              " 'PubchemFP391',\n",
              " 'PubchemFP392',\n",
              " 'PubchemFP393',\n",
              " 'PubchemFP405',\n",
              " 'PubchemFP419',\n",
              " 'PubchemFP422',\n",
              " 'PubchemFP429',\n",
              " 'PubchemFP431',\n",
              " 'PubchemFP435',\n",
              " 'PubchemFP437',\n",
              " 'PubchemFP438',\n",
              " 'PubchemFP439',\n",
              " 'PubchemFP440',\n",
              " 'PubchemFP445',\n",
              " 'PubchemFP450',\n",
              " 'PubchemFP451',\n",
              " 'PubchemFP452',\n",
              " 'PubchemFP461',\n",
              " 'PubchemFP466',\n",
              " 'PubchemFP467',\n",
              " 'PubchemFP476',\n",
              " 'PubchemFP477',\n",
              " 'PubchemFP484',\n",
              " 'PubchemFP485',\n",
              " 'PubchemFP486',\n",
              " 'PubchemFP487',\n",
              " 'PubchemFP494',\n",
              " 'PubchemFP496',\n",
              " 'PubchemFP497',\n",
              " 'PubchemFP498',\n",
              " 'PubchemFP499',\n",
              " 'PubchemFP502',\n",
              " 'PubchemFP504',\n",
              " 'PubchemFP515',\n",
              " 'PubchemFP517',\n",
              " 'PubchemFP519',\n",
              " 'PubchemFP528',\n",
              " 'PubchemFP536',\n",
              " 'PubchemFP539',\n",
              " 'PubchemFP541',\n",
              " 'PubchemFP542',\n",
              " 'PubchemFP543',\n",
              " 'PubchemFP546',\n",
              " 'PubchemFP547',\n",
              " 'PubchemFP557',\n",
              " 'PubchemFP560',\n",
              " 'PubchemFP565',\n",
              " 'PubchemFP566',\n",
              " 'PubchemFP568',\n",
              " 'PubchemFP569',\n",
              " 'PubchemFP572',\n",
              " 'PubchemFP574',\n",
              " 'PubchemFP577',\n",
              " 'PubchemFP579',\n",
              " 'PubchemFP580',\n",
              " 'PubchemFP581',\n",
              " 'PubchemFP587',\n",
              " 'PubchemFP589',\n",
              " 'PubchemFP590',\n",
              " 'PubchemFP593',\n",
              " 'PubchemFP594',\n",
              " 'PubchemFP596',\n",
              " 'PubchemFP597',\n",
              " 'PubchemFP601',\n",
              " 'PubchemFP602',\n",
              " 'PubchemFP604',\n",
              " 'PubchemFP606',\n",
              " 'PubchemFP611',\n",
              " 'PubchemFP614',\n",
              " 'PubchemFP616',\n",
              " 'PubchemFP619',\n",
              " 'PubchemFP620',\n",
              " 'PubchemFP621',\n",
              " 'PubchemFP623',\n",
              " 'PubchemFP624',\n",
              " 'PubchemFP625',\n",
              " 'PubchemFP626',\n",
              " 'PubchemFP632',\n",
              " 'PubchemFP636',\n",
              " 'PubchemFP637',\n",
              " 'PubchemFP641',\n",
              " 'PubchemFP642',\n",
              " 'PubchemFP643',\n",
              " 'PubchemFP644',\n",
              " 'PubchemFP645',\n",
              " 'PubchemFP646',\n",
              " 'PubchemFP651',\n",
              " 'PubchemFP652',\n",
              " 'PubchemFP654',\n",
              " 'PubchemFP655',\n",
              " 'PubchemFP659',\n",
              " 'PubchemFP666',\n",
              " 'PubchemFP671',\n",
              " 'PubchemFP672',\n",
              " 'PubchemFP673',\n",
              " 'PubchemFP674',\n",
              " 'PubchemFP676',\n",
              " 'PubchemFP680',\n",
              " 'PubchemFP682',\n",
              " 'PubchemFP684',\n",
              " 'PubchemFP689',\n",
              " 'PubchemFP691',\n",
              " 'PubchemFP692',\n",
              " 'PubchemFP695',\n",
              " 'PubchemFP696',\n",
              " 'PubchemFP697',\n",
              " 'PubchemFP698',\n",
              " 'PubchemFP699',\n",
              " 'PubchemFP702',\n",
              " 'PubchemFP704',\n",
              " 'PubchemFP707',\n",
              " 'PubchemFP712',\n",
              " 'PubchemFP713',\n",
              " 'PubchemFP734',\n",
              " 'PubchemFP755',\n",
              " 'PubchemFP776',\n",
              " 'PubchemFP797',\n",
              " 'PubchemFP818']"
            ]
          },
          "metadata": {},
          "execution_count": 25
        }
      ]
    },
    {
      "cell_type": "code",
      "source": [
        "inh_selected_fetures.to_csv('inh_filtrd_col.csv')"
      ],
      "metadata": {
        "id": "DuHClUvlATEX"
      },
      "execution_count": null,
      "outputs": []
    },
    {
      "cell_type": "code",
      "execution_count": null,
      "metadata": {
        "id": "3GF97NSGPFxS"
      },
      "outputs": [],
      "source": [
        "X_train, X_test, Y_train, Y_test = train_test_split(X, Y, test_size=0.2)"
      ]
    },
    {
      "cell_type": "code",
      "execution_count": null,
      "metadata": {
        "colab": {
          "base_uri": "https://localhost:8080/"
        },
        "id": "6D7EFjOiPFzp",
        "outputId": "c9665f15-4634-4582-d41d-1b60a76fcb5e"
      },
      "outputs": [
        {
          "output_type": "execute_result",
          "data": {
            "text/plain": [
              "((1783, 153), (1783,))"
            ]
          },
          "metadata": {},
          "execution_count": 35
        }
      ],
      "source": [
        "X_train.shape, Y_train.shape"
      ]
    },
    {
      "cell_type": "code",
      "execution_count": null,
      "metadata": {
        "id": "1qlJyWAaQOAK",
        "colab": {
          "base_uri": "https://localhost:8080/"
        },
        "outputId": "cc199c1d-19ca-4aac-96b0-344d46df4601"
      },
      "outputs": [
        {
          "output_type": "execute_result",
          "data": {
            "text/plain": [
              "((446, 153), (446,))"
            ]
          },
          "metadata": {},
          "execution_count": 36
        }
      ],
      "source": [
        "X_test.shape, Y_test.shape"
      ]
    },
    {
      "cell_type": "code",
      "source": [
        "rf_params = {\"n_estimators\" :[100,200,500,1000], \n",
        "             \"max_features\": [3,5,7], \n",
        "             \"min_samples_split\": [2,5,10,30],\n",
        "             \"max_depth\": [3,5,8,None]}\n",
        "\n",
        "rf_model = RandomForestClassifier(random_state = 357)\n",
        "\n",
        "rf_cv_model = GridSearchCV(rf_model, rf_params, cv = 10, n_jobs = -1,verbose = 1).fit(X_train, Y_train)\n",
        "\n",
        "rf_tuned = RandomForestClassifier(**rf_cv_model.best_params_).fit(X_train, Y_train)"
      ],
      "metadata": {
        "colab": {
          "base_uri": "https://localhost:8080/"
        },
        "id": "ZsJ5nGb0u5Y9",
        "outputId": "b22a601c-7289-4faf-97a6-319d820e5969"
      },
      "execution_count": null,
      "outputs": [
        {
          "output_type": "stream",
          "name": "stdout",
          "text": [
            "Fitting 10 folds for each of 192 candidates, totalling 1920 fits\n"
          ]
        }
      ]
    },
    {
      "cell_type": "code",
      "execution_count": null,
      "metadata": {
        "id": "o7w7p3HYPF-u",
        "colab": {
          "base_uri": "https://localhost:8080/"
        },
        "outputId": "217c8062-e9f0-4137-ee1e-214f75cfa624"
      },
      "outputs": [
        {
          "output_type": "stream",
          "name": "stdout",
          "text": [
            "Accuracy: 94.62%\n"
          ]
        }
      ],
      "source": [
        "y_pred = rf_tuned.predict(X_test) \n",
        "\n",
        "predictions = [value for value in y_pred]\n",
        "\n",
        "accuracy = accuracy_score(Y_test, predictions) \n",
        "\n",
        "print(\"Accuracy: %.2f%%\" % (accuracy * 100.0))"
      ]
    },
    {
      "cell_type": "code",
      "source": [
        "from sklearn.metrics import confusion_matrix\n",
        "\n",
        "#Generate the confusion matrix\n",
        "cf_matrix = confusion_matrix(Y_test, predictions)\n",
        "\n",
        "print(cf_matrix)"
      ],
      "metadata": {
        "colab": {
          "base_uri": "https://localhost:8080/"
        },
        "id": "Jk8nIiTOChy0",
        "outputId": "5198b7ae-e34c-42e6-97a8-db5178ebca43"
      },
      "execution_count": null,
      "outputs": [
        {
          "output_type": "stream",
          "name": "stdout",
          "text": [
            "[[352  12]\n",
            " [ 12  70]]\n"
          ]
        }
      ]
    },
    {
      "cell_type": "code",
      "execution_count": null,
      "metadata": {
        "id": "ol6bvVJ5PGBr",
        "colab": {
          "base_uri": "https://localhost:8080/"
        },
        "outputId": "79052183-fee6-4e7a-f562-53d13d73bb6a"
      },
      "outputs": [
        {
          "output_type": "stream",
          "name": "stdout",
          "text": [
            "Confusion matrix: \n",
            " [[352  12]\n",
            " [ 12  70]]\n",
            "Classification report: \n",
            "               precision    recall  f1-score   support\n",
            "\n",
            "           0       0.97      0.97      0.97       364\n",
            "           1       0.85      0.85      0.85        82\n",
            "\n",
            "    accuracy                           0.95       446\n",
            "   macro avg       0.91      0.91      0.91       446\n",
            "weighted avg       0.95      0.95      0.95       446\n",
            "\n"
          ]
        }
      ],
      "source": [
        "from sklearn.metrics import classification_report, confusion_matrix\n",
        "from sklearn.ensemble import RandomForestClassifier\n",
        "\n",
        "print('Confusion matrix: \\n',cf_matrix)\n",
        "print('Classification report: \\n',classification_report(Y_test,predictions))\n",
        "\n",
        "\n"
      ]
    },
    {
      "cell_type": "code",
      "source": [
        "import pickle\n",
        "# save the model to disk\n",
        "# filename = 'finalized_model_inh_2class.sav'\n",
        "# pickle.dump(rf_tuned, open(filename, 'wb'))\n",
        " \n",
        "# some time later...\n",
        " \n"
      ],
      "metadata": {
        "id": "VoF1SRMpF1aE"
      },
      "execution_count": null,
      "outputs": []
    },
    {
      "cell_type": "code",
      "source": [
        "filename = '/content/finalized_model_inh.sav'"
      ],
      "metadata": {
        "id": "lvTNWxcBGDIk"
      },
      "execution_count": null,
      "outputs": []
    },
    {
      "cell_type": "markdown",
      "source": [
        "## inhibitor classification of Human approved drgus"
      ],
      "metadata": {
        "id": "BMIjJLk75IAm"
      }
    },
    {
      "cell_type": "code",
      "source": [
        "# # load the model from disk\n",
        "loaded_model = pickle.load(open(filename, 'rb'))\n",
        "# result = loaded_model.score(X_test, Y_test)\n",
        "# # print(result)"
      ],
      "metadata": {
        "id": "KZCjYw5OKAfe"
      },
      "execution_count": null,
      "outputs": []
    },
    {
      "cell_type": "code",
      "source": [
        "HDA = pd.read_csv('FDA_descriptor full.csv')"
      ],
      "metadata": {
        "id": "TDtp4w-W5GjQ"
      },
      "execution_count": null,
      "outputs": []
    },
    {
      "cell_type": "code",
      "source": [
        "HDA.columns"
      ],
      "metadata": {
        "colab": {
          "base_uri": "https://localhost:8080/"
        },
        "id": "dhj2j97OVNX4",
        "outputId": "78d76671-15fb-4c51-dc30-780e92a9f0e9"
      },
      "execution_count": null,
      "outputs": [
        {
          "output_type": "execute_result",
          "data": {
            "text/plain": [
              "Index(['Name', 'Smiles', 'S NO', 'PubchemFP0', 'PubchemFP1', 'PubchemFP2',\n",
              "       'PubchemFP3', 'PubchemFP4', 'PubchemFP5', 'PubchemFP6',\n",
              "       ...\n",
              "       'PubchemFP871', 'PubchemFP872', 'PubchemFP873', 'PubchemFP874',\n",
              "       'PubchemFP875', 'PubchemFP876', 'PubchemFP877', 'PubchemFP878',\n",
              "       'PubchemFP879', 'PubchemFP880'],\n",
              "      dtype='object', length=884)"
            ]
          },
          "metadata": {},
          "execution_count": 40
        }
      ]
    },
    {
      "cell_type": "code",
      "source": [
        "X_test = HDA[inh_selected_fetures]"
      ],
      "metadata": {
        "id": "etZsnyFMZRUi"
      },
      "execution_count": null,
      "outputs": []
    },
    {
      "cell_type": "code",
      "source": [
        "X_test.shape"
      ],
      "metadata": {
        "colab": {
          "base_uri": "https://localhost:8080/"
        },
        "id": "I3nF8t8cUlWF",
        "outputId": "d8d3bc8e-0a01-4286-90a8-b5c94f9403ce"
      },
      "execution_count": null,
      "outputs": [
        {
          "output_type": "execute_result",
          "data": {
            "text/plain": [
              "(2802, 153)"
            ]
          },
          "metadata": {},
          "execution_count": 42
        }
      ]
    },
    {
      "cell_type": "code",
      "source": [
        "X_test=X_test.fillna(0)"
      ],
      "metadata": {
        "id": "-YTK1l7OKIVd"
      },
      "execution_count": null,
      "outputs": []
    },
    {
      "cell_type": "code",
      "source": [
        "X_test.unique()"
      ],
      "metadata": {
        "colab": {
          "base_uri": "https://localhost:8080/",
          "height": 287
        },
        "id": "mOmfJ7TgSSnx",
        "outputId": "b3392a0a-5513-43c2-9615-2faa0c560d58"
      },
      "execution_count": null,
      "outputs": [
        {
          "output_type": "error",
          "ename": "AttributeError",
          "evalue": "ignored",
          "traceback": [
            "\u001b[0;31m---------------------------------------------------------------------------\u001b[0m",
            "\u001b[0;31mAttributeError\u001b[0m                            Traceback (most recent call last)",
            "\u001b[0;32m<ipython-input-44-3322be5de951>\u001b[0m in \u001b[0;36m<module>\u001b[0;34m\u001b[0m\n\u001b[0;32m----> 1\u001b[0;31m \u001b[0mX_test\u001b[0m\u001b[0;34m.\u001b[0m\u001b[0munique\u001b[0m\u001b[0;34m(\u001b[0m\u001b[0;34m)\u001b[0m\u001b[0;34m\u001b[0m\u001b[0;34m\u001b[0m\u001b[0m\n\u001b[0m",
            "\u001b[0;32m/usr/local/lib/python3.7/dist-packages/pandas/core/generic.py\u001b[0m in \u001b[0;36m__getattr__\u001b[0;34m(self, name)\u001b[0m\n\u001b[1;32m   5485\u001b[0m         ):\n\u001b[1;32m   5486\u001b[0m             \u001b[0;32mreturn\u001b[0m \u001b[0mself\u001b[0m\u001b[0;34m[\u001b[0m\u001b[0mname\u001b[0m\u001b[0;34m]\u001b[0m\u001b[0;34m\u001b[0m\u001b[0;34m\u001b[0m\u001b[0m\n\u001b[0;32m-> 5487\u001b[0;31m         \u001b[0;32mreturn\u001b[0m \u001b[0mobject\u001b[0m\u001b[0;34m.\u001b[0m\u001b[0m__getattribute__\u001b[0m\u001b[0;34m(\u001b[0m\u001b[0mself\u001b[0m\u001b[0;34m,\u001b[0m \u001b[0mname\u001b[0m\u001b[0;34m)\u001b[0m\u001b[0;34m\u001b[0m\u001b[0;34m\u001b[0m\u001b[0m\n\u001b[0m\u001b[1;32m   5488\u001b[0m \u001b[0;34m\u001b[0m\u001b[0m\n\u001b[1;32m   5489\u001b[0m     \u001b[0;32mdef\u001b[0m \u001b[0m__setattr__\u001b[0m\u001b[0;34m(\u001b[0m\u001b[0mself\u001b[0m\u001b[0;34m,\u001b[0m \u001b[0mname\u001b[0m\u001b[0;34m:\u001b[0m \u001b[0mstr\u001b[0m\u001b[0;34m,\u001b[0m \u001b[0mvalue\u001b[0m\u001b[0;34m)\u001b[0m \u001b[0;34m->\u001b[0m \u001b[0;32mNone\u001b[0m\u001b[0;34m:\u001b[0m\u001b[0;34m\u001b[0m\u001b[0;34m\u001b[0m\u001b[0m\n",
            "\u001b[0;31mAttributeError\u001b[0m: 'DataFrame' object has no attribute 'unique'"
          ]
        }
      ]
    },
    {
      "cell_type": "code",
      "source": [
        "y_prediction = loaded_model.predict(X_test)\n",
        "\n",
        "HDA[\"column_with_predictions\"] = y_prediction\n",
        "submission = HDA[[\"Name\", \"column_with_predictions\"]]\n",
        "\n",
        "submission.to_csv(\"predictions.csv\", index = False)"
      ],
      "metadata": {
        "colab": {
          "base_uri": "https://localhost:8080/"
        },
        "id": "qu8hs9gZJ12z",
        "outputId": "b9bcdd51-cf1e-4e22-924e-9e808c91c0e3"
      },
      "execution_count": null,
      "outputs": [
        {
          "output_type": "stream",
          "name": "stderr",
          "text": [
            "/usr/local/lib/python3.7/dist-packages/sklearn/base.py:444: UserWarning:\n",
            "\n",
            "X has feature names, but RandomForestClassifier was fitted without feature names\n",
            "\n"
          ]
        }
      ]
    },
    {
      "cell_type": "code",
      "source": [],
      "metadata": {
        "id": "2gSbZVqXGCTq",
        "colab": {
          "base_uri": "https://localhost:8080/",
          "height": 217
        },
        "outputId": "347c2a15-3443-4c08-8b8d-ff7789e73432"
      },
      "execution_count": null,
      "outputs": [
        {
          "output_type": "error",
          "ename": "NameError",
          "evalue": "ignored",
          "traceback": [
            "\u001b[0;31m---------------------------------------------------------------------------\u001b[0m",
            "\u001b[0;31mNameError\u001b[0m                                 Traceback (most recent call last)",
            "\u001b[0;32m<ipython-input-59-6975ab59769c>\u001b[0m in \u001b[0;36m<module>\u001b[0;34m\u001b[0m\n\u001b[1;32m      1\u001b[0m \u001b[0;31m# load the model from disk\u001b[0m\u001b[0;34m\u001b[0m\u001b[0;34m\u001b[0m\u001b[0;34m\u001b[0m\u001b[0m\n\u001b[0;32m----> 2\u001b[0;31m \u001b[0mloaded_model\u001b[0m \u001b[0;34m=\u001b[0m \u001b[0mpickle\u001b[0m\u001b[0;34m.\u001b[0m\u001b[0mload\u001b[0m\u001b[0;34m(\u001b[0m\u001b[0mopen\u001b[0m\u001b[0;34m(\u001b[0m\u001b[0mfilename\u001b[0m\u001b[0;34m,\u001b[0m \u001b[0;34m'rb'\u001b[0m\u001b[0;34m)\u001b[0m\u001b[0;34m)\u001b[0m\u001b[0;34m\u001b[0m\u001b[0;34m\u001b[0m\u001b[0m\n\u001b[0m\u001b[1;32m      3\u001b[0m \u001b[0;31m# result = loaded_model.score(X_test, Y_test)\u001b[0m\u001b[0;34m\u001b[0m\u001b[0;34m\u001b[0m\u001b[0;34m\u001b[0m\u001b[0m\n\u001b[1;32m      4\u001b[0m \u001b[0;31m# print(result)\u001b[0m\u001b[0;34m\u001b[0m\u001b[0;34m\u001b[0m\u001b[0;34m\u001b[0m\u001b[0m\n",
            "\u001b[0;31mNameError\u001b[0m: name 'pickle' is not defined"
          ]
        }
      ]
    },
    {
      "cell_type": "code",
      "source": [],
      "metadata": {
        "id": "Oi2lNy4PJv8A"
      },
      "execution_count": null,
      "outputs": []
    },
    {
      "cell_type": "markdown",
      "source": [
        "XGB classifirer\n"
      ],
      "metadata": {
        "id": "sSsWpeiBg7JJ"
      }
    },
    {
      "cell_type": "code",
      "source": [
        "# Import label encoder\n",
        "from sklearn import preprocessing\n",
        "  \n",
        "# label_encoder object knows how to understand word labels.\n",
        "label_encoder = preprocessing.LabelEncoder()\n",
        "  \n",
        "# Encode labels in column 'species'.\n",
        "df['encoded_binned_IC50']= label_encoder.fit_transform(df['binned_IC50'])"
      ],
      "metadata": {
        "id": "qWzzx061K3Sj"
      },
      "execution_count": null,
      "outputs": []
    },
    {
      "cell_type": "code",
      "source": [
        "df.columns"
      ],
      "metadata": {
        "colab": {
          "base_uri": "https://localhost:8080/"
        },
        "id": "4FhwrfAkvPYh",
        "outputId": "a5fafcf4-8071-4cfb-a028-b495df5785b9"
      },
      "execution_count": null,
      "outputs": [
        {
          "output_type": "execute_result",
          "data": {
            "text/plain": [
              "Index(['Smiles', 'IC50', 'S NO', 'PubchemFP0', 'PubchemFP1', 'PubchemFP2',\n",
              "       'PubchemFP3', 'PubchemFP4', 'PubchemFP5', 'PubchemFP6',\n",
              "       ...\n",
              "       'PubchemFP873', 'PubchemFP874', 'PubchemFP875', 'PubchemFP876',\n",
              "       'PubchemFP877', 'PubchemFP878', 'PubchemFP879', 'PubchemFP880',\n",
              "       'binned_IC50', 'encoded_binned_IC50'],\n",
              "      dtype='object', length=886)"
            ]
          },
          "metadata": {},
          "execution_count": 35
        }
      ]
    },
    {
      "cell_type": "code",
      "source": [
        "X_train, X_test, Y_train, Y_test = train_test_split(X, Y, test_size=0.2)"
      ],
      "metadata": {
        "id": "GIYyjpxMwVgr"
      },
      "execution_count": null,
      "outputs": []
    },
    {
      "cell_type": "code",
      "source": [
        "import xgboost as xgb\n",
        "\n",
        "from sklearn import datasets\n",
        "\n",
        "from sklearn.model_selection import train_test_split\n",
        "\n",
        "from sklearn.preprocessing import LabelEncoder \n",
        "\n",
        "from xgboost import XGBClassifier\n",
        "\n",
        "from sklearn.metrics import accuracy_score\n",
        "from hyperopt import STATUS_OK, Trials, fmin, hp, tpe\n",
        "## Hyperparameter optimization using RandomizedSearchCV\n",
        "from sklearn.model_selection import RandomizedSearchCV, GridSearchCV\n",
        "import xgboost\n"
      ],
      "metadata": {
        "id": "7AnKWasSg6EK"
      },
      "execution_count": null,
      "outputs": []
    },
    {
      "cell_type": "code",
      "source": [
        "## Hyper Parameter Optimization\n",
        "\n",
        "params={\n",
        " \"learning_rate\"    : [0.05, 0.10, 0.15, 0.20, 0.25, 0.30 ] ,\n",
        " \"max_depth\"        : [ 3, 4, 5, 6, 8, 10, 12, 15],\n",
        " \"min_child_weight\" : [ 1, 3, 5, 7 ],\n",
        " \"gamma\"            : [ 0.0, 0.1, 0.2 , 0.3, 0.4 ],\n",
        " \"colsample_bytree\" : [ 0.3, 0.4, 0.5 , 0.7 ]\n",
        "    \n",
        "}"
      ],
      "metadata": {
        "id": "iyuWAT0og6G4"
      },
      "execution_count": null,
      "outputs": []
    },
    {
      "cell_type": "code",
      "source": [
        "def timer(start_time=None):\n",
        "    if not start_time:\n",
        "        start_time = datetime.now()\n",
        "        return start_time\n",
        "    elif start_time:\n",
        "        thour, temp_sec = divmod((datetime.now() - start_time).total_seconds(), 3600)\n",
        "        tmin, tsec = divmod(temp_sec, 60)\n",
        "        print('\\n Time taken: %i hours %i minutes and %s seconds.' % (thour, tmin, round(tsec, 2)))"
      ],
      "metadata": {
        "id": "Ey583PW1g6Jo"
      },
      "execution_count": null,
      "outputs": []
    },
    {
      "cell_type": "code",
      "source": [
        "classifier=xgboost.XGBClassifier()"
      ],
      "metadata": {
        "id": "NKiStvlZg6MO"
      },
      "execution_count": null,
      "outputs": []
    },
    {
      "cell_type": "code",
      "source": [
        "random_search=RandomizedSearchCV(classifier,param_distributions=params,n_iter=5,scoring='roc_auc',n_jobs=-1,cv=5,verbose=3)"
      ],
      "metadata": {
        "id": "4sH_pmSPg6O-"
      },
      "execution_count": null,
      "outputs": []
    },
    {
      "cell_type": "code",
      "source": [
        "from datetime import datetime\n",
        "# Here we go\n",
        "start_time = timer(None) # timing starts from this point for \"start_time\" variable\n",
        "random_search.fit(X_train, Y_train)\n",
        "timer(start_time) # timing ends here for \"start_time\" variable"
      ],
      "metadata": {
        "colab": {
          "base_uri": "https://localhost:8080/"
        },
        "id": "DHSRD2YSg6Rr",
        "outputId": "78ad7a1f-9d0a-47f7-d35f-d71eb3d08dba"
      },
      "execution_count": null,
      "outputs": [
        {
          "output_type": "stream",
          "name": "stdout",
          "text": [
            "Fitting 5 folds for each of 5 candidates, totalling 25 fits\n",
            "\n",
            " Time taken: 0 hours 0 minutes and 7.85 seconds.\n"
          ]
        }
      ]
    },
    {
      "cell_type": "code",
      "source": [
        "random_search.best_estimator_"
      ],
      "metadata": {
        "colab": {
          "base_uri": "https://localhost:8080/"
        },
        "id": "P3GbXDJsg6UH",
        "outputId": "ee04d687-bb2e-41fe-8c26-3ce4be5ec8d5"
      },
      "execution_count": null,
      "outputs": [
        {
          "output_type": "execute_result",
          "data": {
            "text/plain": [
              "XGBClassifier(colsample_bytree=0.4, gamma=0.4, learning_rate=0.2, max_depth=8)"
            ]
          },
          "metadata": {},
          "execution_count": 88
        }
      ]
    },
    {
      "cell_type": "code",
      "source": [
        "random_search.best_params_"
      ],
      "metadata": {
        "colab": {
          "base_uri": "https://localhost:8080/"
        },
        "id": "HyVCvooAg6W6",
        "outputId": "4d1f8da4-476d-4e00-8d4b-a10ee9ccfc54"
      },
      "execution_count": null,
      "outputs": [
        {
          "output_type": "execute_result",
          "data": {
            "text/plain": [
              "{'min_child_weight': 1,\n",
              " 'max_depth': 8,\n",
              " 'learning_rate': 0.2,\n",
              " 'gamma': 0.4,\n",
              " 'colsample_bytree': 0.4}"
            ]
          },
          "metadata": {},
          "execution_count": 89
        }
      ]
    },
    {
      "cell_type": "code",
      "source": [
        "# classifier=xgboost.XGBClassifier(colsample_bytree=0.3, gamma=0.0, learning_rate=0.15, max_depth=10,\n",
        "#               min_child_weight=3, objective='multi:softprob').fit(X_train, Y_train)\n",
        "\n",
        "classifier=xgboost.XGBClassifier(colsample_bytree=0.4, gamma=0.4, learning_rate=0.2, max_depth=8).fit(X_train, Y_train)  "
      ],
      "metadata": {
        "id": "aHzq0GvYg6Z1"
      },
      "execution_count": null,
      "outputs": []
    },
    {
      "cell_type": "code",
      "source": [
        "y_pred = classifier.predict(X_test)\n",
        "\n",
        "predictions = [value for value in y_pred]\n",
        "\n",
        "accuracy = accuracy_score(Y_test, predictions) \n",
        "\n",
        "print(\"Accuracy: %.2f%%\" % (accuracy * 100.0))"
      ],
      "metadata": {
        "colab": {
          "base_uri": "https://localhost:8080/"
        },
        "id": "gsaAYEHjg6cn",
        "outputId": "730d3c13-9854-4251-8c1f-32a3bdb2126a"
      },
      "execution_count": null,
      "outputs": [
        {
          "output_type": "stream",
          "name": "stdout",
          "text": [
            "Accuracy: 95.96%\n"
          ]
        }
      ]
    },
    {
      "cell_type": "code",
      "source": [
        "from sklearn.metrics import classification_report, confusion_matrix\n",
        "from sklearn.ensemble import RandomForestClassifier\n",
        "cf_matrix = confusion_matrix(Y_test, predictions)\n",
        "\n",
        "\n",
        "print('Confusion matrix: \\n',cf_matrix)\n",
        "print('Classification report: \\n',classification_report(Y_test,predictions))\n"
      ],
      "metadata": {
        "colab": {
          "base_uri": "https://localhost:8080/"
        },
        "id": "n5eUcac9iS8e",
        "outputId": "7704101e-7967-4677-f254-b43dfc29ded9"
      },
      "execution_count": null,
      "outputs": [
        {
          "output_type": "stream",
          "name": "stdout",
          "text": [
            "Confusion matrix: \n",
            " [[347  11]\n",
            " [  6  82]]\n",
            "Classification report: \n",
            "               precision    recall  f1-score   support\n",
            "\n",
            "           0       0.98      0.97      0.98       358\n",
            "           1       0.88      0.93      0.91        88\n",
            "\n",
            "    accuracy                           0.96       446\n",
            "   macro avg       0.93      0.95      0.94       446\n",
            "weighted avg       0.96      0.96      0.96       446\n",
            "\n"
          ]
        }
      ]
    },
    {
      "cell_type": "code",
      "source": [],
      "metadata": {
        "id": "czhsT6AJiS_W"
      },
      "execution_count": null,
      "outputs": []
    },
    {
      "cell_type": "code",
      "source": [
        "# get pandas dataframe\n",
        "from pretty_confusion_matrix import pp_matrix\n",
        "df_cm = pd.DataFrame(cf_matrix, index=range(1, 7), columns=range(1, 7))\n",
        "# colormap: see this and choose your more dear\n",
        "cmap = 'PuRd'\n",
        "pp_matrix(df_cm, cmap=cmap)"
      ],
      "metadata": {
        "id": "ofO_vwX3iTB-"
      },
      "execution_count": null,
      "outputs": []
    },
    {
      "cell_type": "code",
      "source": [],
      "metadata": {
        "id": "UfKvU7JiXV2A"
      },
      "execution_count": null,
      "outputs": []
    }
  ],
  "metadata": {
    "colab": {
      "provenance": []
    },
    "kernelspec": {
      "display_name": "Python 3",
      "name": "python3"
    },
    "language_info": {
      "name": "python"
    }
  },
  "nbformat": 4,
  "nbformat_minor": 0
}